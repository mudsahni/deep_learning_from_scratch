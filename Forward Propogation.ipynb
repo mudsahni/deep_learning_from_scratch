{
 "cells": [
  {
   "cell_type": "markdown",
   "metadata": {},
   "source": [
    "### Forward Propogation from Scratch: Linear Model for House Rent Prediction\n",
    "We want to determine the rent of a house based on one variable: `number of rooms`. Intuitively, we know that the rent of a house is not solely dependent on the number of rooms present in the house so any model we make using just this one variable will not be a very good one. But let's start with this right now.\n",
    "\n",
    "A linear model for determining the house rent will look like:\n",
    "$$ Rent = \\theta_0 + \\theta_1 X $$\n",
    "\n",
    "We will ignore the first coefficient $\\theta_0$ (y-intercept) for this process and just examine the remaining equation."
   ]
  },
  {
   "cell_type": "code",
   "execution_count": 9,
   "metadata": {},
   "outputs": [
    {
     "name": "stdout",
     "output_type": "stream",
     "text": [
      "Predicted price (in thousands of $) of home with 7 rooms: $375,000\n",
      "Predicted price (in thousands of $) of home with 4 rooms: $214,000\n",
      "Predicted price (in thousands of $) of home with 5 rooms: $268,000\n",
      "Predicted price (in thousands of $) of home with 3 rooms: $161,000\n"
     ]
    }
   ],
   "source": [
    "# Simple Neural Network: Weighted Prediction\n",
    "def neural_network(X, W):\n",
    "    P = X * W\n",
    "    return P\n",
    "\n",
    "W = 53.7\n",
    "# Number of rooms for 4 different houses\n",
    "rooms = [7, 4, 5, 3]\n",
    "\n",
    "for i in rooms:\n",
    "    print(f\"Predicted price (in thousands of $) of home with {i} rooms: ${int(neural_network(i,W))},000\")\n"
   ]
  },
  {
   "cell_type": "markdown",
   "metadata": {},
   "source": [
    "How about trying to predict the house prices with three input variables now: `number of rooms`, `area`, and `distance from city center`.\n",
    "\n",
    "$$Rent = \\theta_0 + \\theta_1X_1 + \\theta_2X_2 + \\theta_3X_3$$"
   ]
  },
  {
   "cell_type": "code",
   "execution_count": 28,
   "metadata": {},
   "outputs": [
    {
     "name": "stdout",
     "output_type": "stream",
     "text": [
      "Predicted price (in thousands of $) of home with 7 rooms, 700m2 area, and 53 km from the city center: $3772,000\n",
      "Predicted price (in thousands of $) of home with 4 rooms, 230m2 area, and 11 km from the city center: $1409,000\n",
      "Predicted price (in thousands of $) of home with 5 rooms, 400m2 area, and 33 km from the city center: $2106,000\n",
      "Predicted price (in thousands of $) of home with 3 rooms, 120m2 area, and 5 km from the city center: $764,000\n"
     ]
    }
   ],
   "source": [
    "# Weighted Sum\n",
    "def w_sum(a, b):\n",
    "    assert(len(a) == len(b))\n",
    "    output = 0\n",
    "    for i in range(len(a)):\n",
    "        output += (a[i] * b[i])\n",
    "    return output\n",
    "\n",
    "def neural_network(X, W):\n",
    "    P = w_sum(X, W)\n",
    "    return P\n",
    "\n",
    "rooms = [7, 4, 5, 3]\n",
    "area = [700, 230, 400, 120] # in square meters\n",
    "distance = [53, 11, 33, 5] # in km\n",
    "\n",
    "W = [13, 7, -23]\n",
    "\n",
    "for i in range(4):\n",
    "    X = [rooms[i], area[i], distance[i]]\n",
    "    prediction = neural_network(X, W)\n",
    "    print(f\"Predicted price (in thousands of $) of home with {rooms[i]} rooms, \"\n",
    "          f\"{area[i]}m2 area, and {distance[i]} km from the city center: \"\n",
    "          f\"${int(prediction)},000\")"
   ]
  },
  {
   "cell_type": "markdown",
   "metadata": {},
   "source": [
    "This can all be done much more efficiently and neatly using numpy."
   ]
  },
  {
   "cell_type": "code",
   "execution_count": 31,
   "metadata": {},
   "outputs": [
    {
     "name": "stdout",
     "output_type": "stream",
     "text": [
      "Predicted price (in thousands of $) of home with 7 rooms, 700m2 area, and 53 km from the city center: $3772,000\n",
      "Predicted price (in thousands of $) of home with 4 rooms, 230m2 area, and 11 km from the city center: $1409,000\n",
      "Predicted price (in thousands of $) of home with 5 rooms, 400m2 area, and 33 km from the city center: $2106,000\n",
      "Predicted price (in thousands of $) of home with 3 rooms, 120m2 area, and 5 km from the city center: $764,000\n"
     ]
    }
   ],
   "source": [
    "import numpy as np\n",
    "\n",
    "def neural_network(X, W):\n",
    "    P = X.dot(W)\n",
    "    return P\n",
    "\n",
    "W = np.array(W)\n",
    "\n",
    "for i in range(4):\n",
    "    X = np.array([rooms[i], area[i], distance[i]])\n",
    "    prediction = neural_network(X, W)\n",
    "    print(f\"Predicted price (in thousands of $) of home with {rooms[i]} rooms, \"\n",
    "          f\"{area[i]}m2 area, and {distance[i]} km from the city center: \"\n",
    "          f\"${int(prediction)},000\")"
   ]
  },
  {
   "cell_type": "markdown",
   "metadata": {},
   "source": [
    "What about if we have to predict multiple outputs from an input? Let's say in addition to `house price`, we also want to predict `quality of life` and `people capacity`. Quality of life certainly cant _just_ be determined by the house area or number of rooms or where the house is located, but let's ignore that and go with it."
   ]
  },
  {
   "cell_type": "code",
   "execution_count": 225,
   "metadata": {},
   "outputs": [
    {
     "name": "stdout",
     "output_type": "stream",
     "text": [
      "Predicted house price based on number of rooms: $371,000 \n",
      "Predicted quality of life index based on number of rooms: 0.7 \n",
      "Predicted house capacity based on number of rooms: 4.2 \n",
      "\n",
      "Predicted house price based on number of rooms: $212,000 \n",
      "Predicted quality of life index based on number of rooms: 0.4 \n",
      "Predicted house capacity based on number of rooms: 2.4 \n",
      "\n",
      "Predicted house price based on number of rooms: $265,000 \n",
      "Predicted quality of life index based on number of rooms: 0.5 \n",
      "Predicted house capacity based on number of rooms: 3.0 \n",
      "\n",
      "Predicted house price based on number of rooms: $159,000 \n",
      "Predicted quality of life index based on number of rooms: 0.3 \n",
      "Predicted house capacity based on number of rooms: 1.8 \n",
      "\n"
     ]
    }
   ],
   "source": [
    "def ele_mul(number, vector):\n",
    "    n = len(vector)\n",
    "    output = [0]*n\n",
    "    assert(len(output) == n)\n",
    "    for i in range(n):\n",
    "        output[i] = number*vector[i]\n",
    "    return output\n",
    "\n",
    "def neural_network(X, W):\n",
    "    P = ele_mul(X,W)\n",
    "    return P\n",
    "\n",
    "W = np.array([53, 0.1, 0.6])\n",
    "\n",
    "for i in range(4):\n",
    "    X = np.array(rooms[i])\n",
    "    prediction = neural_network(X,W)\n",
    "    print(f\"Predicted house price based on number of rooms: ${int(prediction[0])},000 \\n\"\n",
    "          f\"Predicted quality of life index based on number of rooms: {round(prediction[1],2)} \\n\"\n",
    "          f\"Predicted house capacity based on number of rooms: {round(prediction[2],2)} \\n\")"
   ]
  },
  {
   "cell_type": "markdown",
   "metadata": {},
   "source": [
    "Now, we'll try and use all our inputs to predict multiple outputs."
   ]
  },
  {
   "cell_type": "code",
   "execution_count": 252,
   "metadata": {},
   "outputs": [
    {
     "name": "stdout",
     "output_type": "stream",
     "text": [
      "The predictions for 7 rooms, 700m2 area, and 53 km distance: \n",
      "House Price: $2544,000 \n",
      "Quality of life: 0.96 \n",
      "House capacity: 5.39 \n",
      "\n",
      "The predictions for 4 rooms, 230m2 area, and 11 km distance: \n",
      "House Price: $830,000 \n",
      "Quality of life: 0.3 \n",
      "House capacity: 2.23 \n",
      "\n",
      "The predictions for 5 rooms, 400m2 area, and 33 km distance: \n",
      "House Price: $1483,000 \n",
      "Quality of life: 0.57 \n",
      "House capacity: 3.35 \n",
      "\n",
      "The predictions for 3 rooms, 120m2 area, and 5 km distance: \n",
      "House Price: $444,000 \n",
      "Quality of life: 0.16 \n",
      "House capacity: 1.41 \n",
      "\n"
     ]
    }
   ],
   "source": [
    "def w_sum(a, b):\n",
    "    assert(len(a) == len(b))\n",
    "    output = 0\n",
    "    for i in range(len(a)):\n",
    "        output += (a[i] * b[i])\n",
    "    return output\n",
    "\n",
    "\n",
    "def vect_mat_mul(vect, matrix):\n",
    "    assert(len(vect) == len(matrix))\n",
    "    output = [0, 0, 0]\n",
    "    for i in range(len(vect)):\n",
    "        output[i] = w_sum(vect, matrix[i])\n",
    "    return output\n",
    "\n",
    "\n",
    "def neural_network(X, W):\n",
    "    P = vect_mat_mul(X, W)\n",
    "    return P\n",
    "\n",
    "W = np.array([[15.7, 3.1, 5],\n",
    "              [0.009, 0.0009, 0.005],\n",
    "              [0.27, 0.005, 0]])\n",
    "\n",
    "\n",
    "for i in range(4):\n",
    "    X = np.array([rooms[i], area[i], distance[i]])\n",
    "    prediction = neural_network(X, W)\n",
    "    print(f\"The predictions for {X[0]} rooms, {X[1]}m2 area, and {X[2]} km distance: \\n\"\n",
    "          f\"House Price: ${int(prediction[0])},000 \\n\"\n",
    "          f\"Quality of life: {round(prediction[1],2)} \\n\"\n",
    "          f\"House capacity: {round(prediction[2],2)} \\n\")"
   ]
  },
  {
   "cell_type": "markdown",
   "metadata": {},
   "source": [
    "If we want our neural network to be able to pick up complex patterns in the data (especially images) then we can try creating layers of vector multiplication between the input and the final output. These are known as _hidden layers_."
   ]
  },
  {
   "cell_type": "code",
   "execution_count": 272,
   "metadata": {},
   "outputs": [
    {
     "name": "stdout",
     "output_type": "stream",
     "text": [
      "The predictions for 7 rooms, 700m2 area, and 53 km distance: \n",
      "House Price: $2657,000 \n",
      "Quality of life: 0.9 \n",
      "House capacity: 6.84 \n",
      "\n",
      "The predictions for 4 rooms, 230m2 area, and 11 km distance: \n",
      "House Price: $862,000 \n",
      "Quality of life: 0.29 \n",
      "House capacity: 2.23 \n",
      "\n",
      "The predictions for 5 rooms, 400m2 area, and 33 km distance: \n",
      "House Price: $1530,000 \n",
      "Quality of life: 0.52 \n",
      "House capacity: 3.94 \n",
      "\n",
      "The predictions for 3 rooms, 120m2 area, and 5 km distance: \n",
      "House Price: $452,000 \n",
      "Quality of life: 0.15 \n",
      "House capacity: 1.17 \n",
      "\n"
     ]
    }
   ],
   "source": [
    "W1 = np.array([[0.9, 0.7, 0.5],\n",
    "              [0.002, 0.001, 0.004],\n",
    "              [0.002, 0.01, 0.1]])\n",
    "\n",
    "W2 = np.array([[5, 7, 3],\n",
    "              [0.0017, 0.0001, 0.001],\n",
    "              [0.013, 0.05, 0]])\n",
    "\n",
    "W = (W1, W2)\n",
    "\n",
    "def neural_network(X, W):\n",
    "    H = vect_mat_mul(X, W[0])\n",
    "    P = vect_mat_mul(H, W[1])\n",
    "    return P\n",
    "\n",
    "for i in range(4):\n",
    "    X = np.array([rooms[i], area[i], distance[i]])\n",
    "    prediction = neural_network(X, W)\n",
    "    print(f\"The predictions for {X[0]} rooms, {X[1]}m2 area, and {X[2]} km distance: \\n\"\n",
    "          f\"House Price: ${int(prediction[0])},000 \\n\"\n",
    "          f\"Quality of life: {round(prediction[1],2)} \\n\"\n",
    "          f\"House capacity: {round(prediction[2],2)} \\n\")"
   ]
  },
  {
   "cell_type": "code",
   "execution_count": null,
   "metadata": {},
   "outputs": [],
   "source": []
  }
 ],
 "metadata": {
  "kernelspec": {
   "display_name": "Python 3",
   "language": "python",
   "name": "python3"
  },
  "language_info": {
   "codemirror_mode": {
    "name": "ipython",
    "version": 3
   },
   "file_extension": ".py",
   "mimetype": "text/x-python",
   "name": "python",
   "nbconvert_exporter": "python",
   "pygments_lexer": "ipython3",
   "version": "3.6.7"
  }
 },
 "nbformat": 4,
 "nbformat_minor": 2
}
