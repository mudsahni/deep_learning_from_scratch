{
 "cells": [
  {
   "cell_type": "markdown",
   "metadata": {},
   "source": [
    "## Activation Functions\n",
    "\n",
    "**Constraint One**: The function must be continuous and infinite in domain.\n",
    "The first constraint on what makes a proper \"Activation Function\" is that it must have an output number for _any_ input. In other words, we shouldn't be able to put in a number that doesn't have an output for some reason. \n",
    "\n",
    "**Constraint Two**: Good activation functions are \"monotonic\", never changing direction.\n",
    "\n",
    "**Constraint Three**: Good activation functions are \"non-linear\".\n",
    "This allows for selective correlations.\n",
    "\n",
    "**Constraint Four**: Good activation functions (and their derivatives) should be efficiently computable."
   ]
  },
  {
   "cell_type": "markdown",
   "metadata": {},
   "source": [
    "## Standard Hidden Layer Activation Functions\n",
    "\n",
    "### Sigmoid\n",
    "The sigmoid function squishes an infinite amount of input to an output between 0 and 1. In many circumstances, this lets you interpret the output of any individual neuron as a \"probability\". Thus, people use this non-linearity both in hidden and output layers."
   ]
  },
  {
   "cell_type": "code",
   "execution_count": 1,
   "metadata": {},
   "outputs": [],
   "source": [
    "%matplotlib inline\n",
    "import matplotlib.pyplot as plt\n",
    "import numpy as np"
   ]
  },
  {
   "cell_type": "code",
   "execution_count": 7,
   "metadata": {},
   "outputs": [
    {
     "data": {
      "image/png": "[encoded data removed]",
      "text/plain": [
       "<Figure size 432x288 with 1 Axes>"
      ]
     },
     "metadata": {
      "needs_background": "light"
     },
     "output_type": "display_data"
    }
   ],
   "source": [
    "def sigmoid(x):\n",
    "    return np.exp(x)/(np.exp(x) + 1)\n",
    "\n",
    "X = np.arange(-100,100)\n",
    "plt.plot(sigmoid(X))\n",
    "plt.show()"
   ]
  },
  {
   "cell_type": "markdown",
   "metadata": {},
   "source": [
    "\n",
    "### Tan-h\n",
    "Sigmoid gives us varying degrees of positive correlation whereas Tan-h can also show negative correlation. It might not be useful for output layers (unless what you're predicting ranges between -1 and 1), but this aspect of negative correlation is very powerful for hidden layers of a neural network. The hyperbolic tangent function out performs the sigmoid function in hidden layers."
   ]
  },
  {
   "cell_type": "code",
   "execution_count": 8,
   "metadata": {},
   "outputs": [
    {
     "data": {
      "image/png": "[encoded data removed]",
      "text/plain": [
       "<Figure size 432x288 with 1 Axes>"
      ]
     },
     "metadata": {
      "needs_background": "light"
     },
     "output_type": "display_data"
    }
   ],
   "source": [
    "plt.plot(np.tanh(X))\n",
    "plt.show()"
   ]
  },
  {
   "cell_type": "markdown",
   "metadata": {},
   "source": [
    "## Standard Output Layer Activation Functions\n",
    "### Configuration 1: Predicting Raw data values (No activation function)\n",
    "In some cases we would want to transform one \"one matrix of numbers\" to \"another matrix of numbers\", where the range of output is something other than a probability. One example might be predicting the average temperature in Colorado given the average temperatures in surrounding areas.\n",
    "\n",
    "### Configuration 2: Predicting Unrelated Binary Probability (Sigmoid)\n",
    "Often times we would want to predict the result in terms of a binary output. In these cases, we use the sigmoid activation function.\n",
    "\n",
    "### Configuration 3: Predicting Between Multiple Categories (Softmax)\n",
    "One of the most common use case in neural networks is when we want to predict a single label out of many. We want an activation function that models the idea that \"The more likely it's one label, the less likely it's any of the other labels.\"\n"
   ]
  },
  {
   "cell_type": "code",
   "execution_count": 31,
   "metadata": {},
   "outputs": [],
   "source": [
    "np.random.seed(42)\n",
    "from keras.datasets import mnist\n",
    "\n",
    "def tanh_derivate(X):\n",
    "    return 1 - X**2\n",
    "\n",
    "def softmax(X):\n",
    "    temp = np.exp(X)\n",
    "    return temp/np.sum(temp, axis=1, keepdims=True)\n",
    "\n",
    "relu = lambda x: (x>=0) * x\n",
    "\n",
    "(X_train, y_train), (X_test, y_test) = mnist.load_data()"
   ]
  },
  {
   "cell_type": "code",
   "execution_count": 32,
   "metadata": {},
   "outputs": [],
   "source": [
    "# One hot encoding\n",
    "from sklearn.preprocessing import OneHotEncoder\n",
    "\n",
    "encoder = OneHotEncoder(categories='auto')\n",
    "\n",
    "y_train = encoder.fit_transform(y_train.reshape(-1,1))\n",
    "y_test = encoder.fit_transform(y_test.reshape(-1,1))"
   ]
  },
  {
   "cell_type": "code",
   "execution_count": 33,
   "metadata": {},
   "outputs": [],
   "source": [
    "# Scaling pixel values\n",
    "X_train = X_train.reshape(X_train.shape[0], 28*28) / 255\n",
    "X_test = X_test.reshape(X_test.shape[0], 28*28) / 255"
   ]
  },
  {
   "cell_type": "code",
   "execution_count": 47,
   "metadata": {},
   "outputs": [],
   "source": [
    "def initialize_weights(layers):\n",
    "    weights = {}\n",
    "    for idx in range(1,len(layers)):\n",
    "        weights[f\"{idx-1}{idx}\"] = np.random.normal(0,\n",
    "                                                    np.sqrt(2/layers[idx-1]+layers[idx]),\n",
    "                                                    (layers[idx-1],layers[idx]))\n",
    "    return weights"
   ]
  },
  {
   "cell_type": "code",
   "execution_count": null,
   "metadata": {},
   "outputs": [],
   "source": [
    "def forward_propogation(X, W, y):\n",
    "    layers = {}\n",
    "    layers[0] = X[0]\n",
    "    for idx in range(1,len(W)):\n",
    "        layers[idx] = relu(np.dot(X[1], W[f\"{idx-1}{idx}\"]))\n",
    "        \n",
    "        "
   ]
  },
  {
   "cell_type": "code",
   "execution_count": 53,
   "metadata": {},
   "outputs": [],
   "source": []
  },
  {
   "cell_type": "code",
   "execution_count": null,
   "metadata": {},
   "outputs": [],
   "source": []
  }
 ],
 "metadata": {
  "kernelspec": {
   "display_name": "Python 3",
   "language": "python",
   "name": "python3"
  },
  "language_info": {
   "codemirror_mode": {
    "name": "ipython",
    "version": 3
   },
   "file_extension": ".py",
   "mimetype": "text/x-python",
   "name": "python",
   "nbconvert_exporter": "python",
   "pygments_lexer": "ipython3",
   "version": "3.6.7"
  }
 },
 "nbformat": 4,
 "nbformat_minor": 4
}
